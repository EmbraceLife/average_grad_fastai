{
 "cells": [
  {
   "cell_type": "code",
   "execution_count": 1,
   "id": "1ea1f999",
   "metadata": {},
   "outputs": [],
   "source": [
    "from fastai.torch_basics import *\n",
    "from fastai.optimizer import *\n",
    "from pdb import set_trace"
   ]
  },
  {
   "cell_type": "markdown",
   "id": "b13c00e9",
   "metadata": {},
   "source": [
    "## Copy data from Excel"
   ]
  },
  {
   "cell_type": "markdown",
   "id": "9de11ad8",
   "metadata": {},
   "source": [
    "### How to turn a Excel into a list in python quickly"
   ]
  },
  {
   "cell_type": "code",
   "execution_count": 2,
   "id": "f178da0d",
   "metadata": {},
   "outputs": [],
   "source": [
    "a = [0.10,\n",
    "0.30,\n",
    "0.50,\n",
    "0.70,\n",
    "0.90,\n",
    "1.10,\n",
    "1.30,\n",
    "1.50,\n",
    "1.70,\n",
    "1.90,\n",
    "2.10,\n",
    "2.30,\n",
    "2.50,\n",
    "2.70,\n",
    "2.90,\n",
    "3.10,\n",
    "3.30,\n",
    "3.50,\n",
    "3.70,\n",
    "3.90,\n",
    "4.10,\n",
    "4.30,\n",
    "4.50,\n",
    "4.70,\n",
    "4.90,\n",
    "5.10,\n",
    "5.30,\n",
    "5.50,\n",
    "5.70]"
   ]
  },
  {
   "cell_type": "code",
   "execution_count": 3,
   "id": "39fdce92",
   "metadata": {},
   "outputs": [
    {
     "data": {
      "text/plain": [
       "list"
      ]
     },
     "execution_count": 3,
     "metadata": {},
     "output_type": "execute_result"
    }
   ],
   "source": [
    "type(a)"
   ]
  },
  {
   "cell_type": "markdown",
   "id": "21eb9109",
   "metadata": {},
   "source": [
    "### A single weight with gradient has different values at different time"
   ]
  },
  {
   "cell_type": "code",
   "execution_count": 4,
   "id": "26cae7ff",
   "metadata": {},
   "outputs": [
    {
     "name": "stdout",
     "output_type": "stream",
     "text": [
      "tensor([[ 0.0499,  0.1478,  0.2397,  0.3221,  0.3917,  0.4456,  0.4818,  0.4987,\n",
      "          0.4958,  0.4732,  0.4316,  0.3729,  0.2992,  0.2137,  0.1196,  0.0208,\n",
      "         -0.0789, -0.1754, -0.2649, -0.3439, -0.4091, -0.4581, -0.4888, -0.5000,\n",
      "         -0.4912, -0.4629, -0.4161, -0.3528, -0.2753]])\n",
      "tensor([[ 0.4992,  1.4776,  2.3971,  3.2211,  3.9166,  4.4560,  4.8178,  4.9875,\n",
      "          4.9583,  4.7315,  4.3160,  3.7285,  2.9924,  2.1369,  1.1962,  0.2079,\n",
      "         -0.7887, -1.7539, -2.6492, -3.4388, -4.0914, -4.5808, -4.8877, -4.9996,\n",
      "         -4.9123, -4.6291, -4.1613, -3.5277, -2.7534]])\n"
     ]
    }
   ],
   "source": [
    "data = tensor([a]).float() # a dummy data \n",
    "grads = np.sin(data)/2 # a dummy gradient of different values at different time\n",
    "wgts = np.sin(data)*5 # a dummy weight of different values at different time\n",
    "print(grads)\n",
    "print(wgts)"
   ]
  },
  {
   "cell_type": "markdown",
   "id": "758cfc6a",
   "metadata": {},
   "source": [
    "## How does weight curve changes when doing pure SGD_stepping?"
   ]
  },
  {
   "cell_type": "code",
   "execution_count": 5,
   "id": "74696f67",
   "metadata": {},
   "outputs": [],
   "source": [
    "sgd_step??"
   ]
  },
  {
   "cell_type": "code",
   "execution_count": 6,
   "id": "f70024e5",
   "metadata": {},
   "outputs": [],
   "source": [
    "wgts.grad = grads"
   ]
  },
  {
   "cell_type": "code",
   "execution_count": 6,
   "id": "6da30584",
   "metadata": {},
   "outputs": [],
   "source": [
    "def sgd_step_exp(p, lr, **kwargs): # to assign the updated weight to a new variable \n",
    "    set_trace()\n",
    "    return p.data.add(p.grad.data, alpha=-lr)"
   ]
  },
  {
   "cell_type": "code",
   "execution_count": 7,
   "id": "d17b242b",
   "metadata": {
    "scrolled": true
   },
   "outputs": [
    {
     "name": "stderr",
     "output_type": "stream",
     "text": [
      "** error when importing ~/.pdbrc.py: RecursionError('maximum recursion depth exceeded while calling a Python object') **\n"
     ]
    },
    {
     "ename": "RecursionError",
     "evalue": "maximum recursion depth exceeded while calling a Python object",
     "output_type": "error",
     "traceback": [
      "\u001b[0;31m---------------------------------------------------------------------------\u001b[0m",
      "\u001b[0;31mRecursionError\u001b[0m                            Traceback (most recent call last)",
      "File \u001b[0;32m~/mambaforge/lib/python3.9/codecs.py:310\u001b[0m, in \u001b[0;36mBufferedIncrementalDecoder.__init__\u001b[0;34m(self, errors)\u001b[0m\n\u001b[1;32m    309\u001b[0m \u001b[38;5;28;01mdef\u001b[39;00m \u001b[38;5;21m__init__\u001b[39m(\u001b[38;5;28mself\u001b[39m, errors\u001b[38;5;241m=\u001b[39m\u001b[38;5;124m'\u001b[39m\u001b[38;5;124mstrict\u001b[39m\u001b[38;5;124m'\u001b[39m):\n\u001b[0;32m--> 310\u001b[0m     \u001b[43mIncrementalDecoder\u001b[49m\u001b[38;5;241;43m.\u001b[39;49m\u001b[38;5;21;43m__init__\u001b[39;49m\u001b[43m(\u001b[49m\u001b[38;5;28;43mself\u001b[39;49m\u001b[43m,\u001b[49m\u001b[43m \u001b[49m\u001b[43merrors\u001b[49m\u001b[43m)\u001b[49m\n\u001b[1;32m    311\u001b[0m     \u001b[38;5;66;03m# undecoded input that is kept between calls to decode()\u001b[39;00m\n",
      "\u001b[0;31mRecursionError\u001b[0m: maximum recursion depth exceeded",
      "\nDuring handling of the above exception, another exception occurred:\n",
      "\u001b[0;31mRecursionError\u001b[0m                            Traceback (most recent call last)",
      "File \u001b[0;32m~/mambaforge/lib/python3.9/site-packages/fancycompleter.py:203\u001b[0m, in \u001b[0;36mConfigurableClass.get_config\u001b[0;34m(self, Config)\u001b[0m\n\u001b[1;32m    202\u001b[0m \u001b[38;5;28;01mtry\u001b[39;00m:\n\u001b[0;32m--> 203\u001b[0m     \u001b[43mmy_execfile\u001b[49m\u001b[43m(\u001b[49m\u001b[43mrcfile\u001b[49m\u001b[43m,\u001b[49m\u001b[43m \u001b[49m\u001b[43mmydict\u001b[49m\u001b[43m)\u001b[49m\n\u001b[1;32m    204\u001b[0m \u001b[38;5;28;01mexcept\u001b[39;00m \u001b[38;5;167;01mException\u001b[39;00m \u001b[38;5;28;01mas\u001b[39;00m exc:\n",
      "File \u001b[0;32m~/mambaforge/lib/python3.9/site-packages/fancycompleter.py:183\u001b[0m, in \u001b[0;36mmy_execfile\u001b[0;34m(filename, mydict)\u001b[0m\n\u001b[1;32m    182\u001b[0m \u001b[38;5;28;01mdef\u001b[39;00m \u001b[38;5;21mmy_execfile\u001b[39m(filename, mydict):\n\u001b[0;32m--> 183\u001b[0m     \u001b[38;5;28;01mwith\u001b[39;00m \u001b[38;5;28;43mopen\u001b[39;49m\u001b[43m(\u001b[49m\u001b[43mfilename\u001b[49m\u001b[43m)\u001b[49m \u001b[38;5;28;01mas\u001b[39;00m f:\n\u001b[1;32m    184\u001b[0m         code \u001b[38;5;241m=\u001b[39m \u001b[38;5;28mcompile\u001b[39m(f\u001b[38;5;241m.\u001b[39mread(), filename, \u001b[38;5;124m'\u001b[39m\u001b[38;5;124mexec\u001b[39m\u001b[38;5;124m'\u001b[39m)\n",
      "\u001b[0;31mRecursionError\u001b[0m: maximum recursion depth exceeded while calling a Python object",
      "\nDuring handling of the above exception, another exception occurred:\n",
      "\u001b[0;31mRecursionError\u001b[0m                            Traceback (most recent call last)",
      "File \u001b[0;32m~/mambaforge/lib/python3.9/threading.py:1073\u001b[0m, in \u001b[0;36mThread._wait_for_tstate_lock\u001b[0;34m(self, block, timeout)\u001b[0m\n\u001b[1;32m   1072\u001b[0m \u001b[38;5;28;01mtry\u001b[39;00m:\n\u001b[0;32m-> 1073\u001b[0m     \u001b[38;5;28;01mif\u001b[39;00m \u001b[43mlock\u001b[49m\u001b[38;5;241;43m.\u001b[39;49m\u001b[43macquire\u001b[49m\u001b[43m(\u001b[49m\u001b[43mblock\u001b[49m\u001b[43m,\u001b[49m\u001b[43m \u001b[49m\u001b[43mtimeout\u001b[49m\u001b[43m)\u001b[49m:\n\u001b[1;32m   1074\u001b[0m         lock\u001b[38;5;241m.\u001b[39mrelease()\n",
      "\u001b[0;31mRecursionError\u001b[0m: maximum recursion depth exceeded while calling a Python object",
      "\nDuring handling of the above exception, another exception occurred:\n",
      "\u001b[0;31mRecursionError\u001b[0m                            Traceback (most recent call last)",
      "Input \u001b[0;32mIn [7]\u001b[0m, in \u001b[0;36m<cell line: 1>\u001b[0;34m()\u001b[0m\n\u001b[0;32m----> 1\u001b[0m wgts_sgd_step \u001b[38;5;241m=\u001b[39m \u001b[43msgd_step_exp\u001b[49m\u001b[43m(\u001b[49m\u001b[43mp\u001b[49m\u001b[38;5;241;43m=\u001b[39;49m\u001b[43mwgts\u001b[49m\u001b[43m,\u001b[49m\u001b[43m \u001b[49m\u001b[43mlr\u001b[49m\u001b[38;5;241;43m=\u001b[39;49m\u001b[38;5;241;43m1\u001b[39;49m\u001b[43m)\u001b[49m\n\u001b[1;32m      2\u001b[0m wgts_sgd_step\n",
      "Input \u001b[0;32mIn [6]\u001b[0m, in \u001b[0;36msgd_step_exp\u001b[0;34m(p, lr, **kwargs)\u001b[0m\n\u001b[1;32m      1\u001b[0m \u001b[38;5;28;01mdef\u001b[39;00m \u001b[38;5;21msgd_step_exp\u001b[39m(p, lr, \u001b[38;5;241m*\u001b[39m\u001b[38;5;241m*\u001b[39mkwargs): \u001b[38;5;66;03m# to assign the updated weight to a new variable \u001b[39;00m\n\u001b[0;32m----> 2\u001b[0m     \u001b[43mset_trace\u001b[49m\u001b[43m(\u001b[49m\u001b[43m)\u001b[49m\n\u001b[1;32m      3\u001b[0m     \u001b[38;5;28;01mreturn\u001b[39;00m p\u001b[38;5;241m.\u001b[39mdata\u001b[38;5;241m.\u001b[39madd(p\u001b[38;5;241m.\u001b[39mgrad\u001b[38;5;241m.\u001b[39mdata, alpha\u001b[38;5;241m=\u001b[39m\u001b[38;5;241m-\u001b[39mlr)\n",
      "File \u001b[0;32m~/mambaforge/lib/python3.9/site-packages/IPython/core/debugger.py:1000\u001b[0m, in \u001b[0;36mset_trace\u001b[0;34m(frame)\u001b[0m\n\u001b[1;32m    994\u001b[0m \u001b[38;5;28;01mdef\u001b[39;00m \u001b[38;5;21mset_trace\u001b[39m(frame\u001b[38;5;241m=\u001b[39m\u001b[38;5;28;01mNone\u001b[39;00m):\n\u001b[1;32m    995\u001b[0m     \u001b[38;5;124;03m\"\"\"\u001b[39;00m\n\u001b[1;32m    996\u001b[0m \u001b[38;5;124;03m    Start debugging from `frame`.\u001b[39;00m\n\u001b[1;32m    997\u001b[0m \n\u001b[1;32m    998\u001b[0m \u001b[38;5;124;03m    If frame is not specified, debugging starts from caller's frame.\u001b[39;00m\n\u001b[1;32m    999\u001b[0m \u001b[38;5;124;03m    \"\"\"\u001b[39;00m\n\u001b[0;32m-> 1000\u001b[0m     \u001b[43mPdb\u001b[49m\u001b[43m(\u001b[49m\u001b[43m)\u001b[49m\u001b[38;5;241m.\u001b[39mset_trace(frame \u001b[38;5;129;01mor\u001b[39;00m sys\u001b[38;5;241m.\u001b[39m_getframe()\u001b[38;5;241m.\u001b[39mf_back)\n",
      "File \u001b[0;32m~/mambaforge/lib/python3.9/site-packages/IPython/core/debugger.py:229\u001b[0m, in \u001b[0;36mPdb.__init__\u001b[0;34m(self, completekey, stdin, stdout, context, **kwargs)\u001b[0m\n\u001b[1;32m    226\u001b[0m         \u001b[38;5;28;01mraise\u001b[39;00m \u001b[38;5;167;01mValueError\u001b[39;00m(\u001b[38;5;124m\"\u001b[39m\u001b[38;5;124mContext must be a positive integer\u001b[39m\u001b[38;5;124m\"\u001b[39m) \u001b[38;5;28;01mfrom\u001b[39;00m \u001b[38;5;21;01me\u001b[39;00m\n\u001b[1;32m    228\u001b[0m \u001b[38;5;66;03m# `kwargs` ensures full compatibility with stdlib's `pdb.Pdb`.\u001b[39;00m\n\u001b[0;32m--> 229\u001b[0m \u001b[43mOldPdb\u001b[49m\u001b[38;5;241;43m.\u001b[39;49m\u001b[38;5;21;43m__init__\u001b[39;49m\u001b[43m(\u001b[49m\u001b[38;5;28;43mself\u001b[39;49m\u001b[43m,\u001b[49m\u001b[43m \u001b[49m\u001b[43mcompletekey\u001b[49m\u001b[43m,\u001b[49m\u001b[43m \u001b[49m\u001b[43mstdin\u001b[49m\u001b[43m,\u001b[49m\u001b[43m \u001b[49m\u001b[43mstdout\u001b[49m\u001b[43m,\u001b[49m\u001b[43m \u001b[49m\u001b[38;5;241;43m*\u001b[39;49m\u001b[38;5;241;43m*\u001b[39;49m\u001b[43mkwargs\u001b[49m\u001b[43m)\u001b[49m\n\u001b[1;32m    231\u001b[0m \u001b[38;5;66;03m# IPython changes...\u001b[39;00m\n\u001b[1;32m    232\u001b[0m \u001b[38;5;28mself\u001b[39m\u001b[38;5;241m.\u001b[39mshell \u001b[38;5;241m=\u001b[39m get_ipython()\n",
      "File \u001b[0;32m~/mambaforge/lib/python3.9/site-packages/pdb.py:169\u001b[0m, in \u001b[0;36mPdb.__init__\u001b[0;34m(self, *args, **kwds)\u001b[0m\n\u001b[1;32m    167\u001b[0m kwargs \u001b[38;5;241m=\u001b[39m \u001b[38;5;28mself\u001b[39m\u001b[38;5;241m.\u001b[39mconfig\u001b[38;5;241m.\u001b[39mdefault_pdb_kwargs\u001b[38;5;241m.\u001b[39mcopy()\n\u001b[1;32m    168\u001b[0m kwargs\u001b[38;5;241m.\u001b[39mupdate(\u001b[38;5;241m*\u001b[39m\u001b[38;5;241m*\u001b[39mkwds)\n\u001b[0;32m--> 169\u001b[0m \u001b[38;5;28;43msuper\u001b[39;49m\u001b[43m(\u001b[49m\u001b[43mPdb\u001b[49m\u001b[43m,\u001b[49m\u001b[43m \u001b[49m\u001b[38;5;28;43mself\u001b[39;49m\u001b[43m)\u001b[49m\u001b[38;5;241;43m.\u001b[39;49m\u001b[38;5;21;43m__init__\u001b[39;49m\u001b[43m(\u001b[49m\u001b[38;5;241;43m*\u001b[39;49m\u001b[43margs\u001b[49m\u001b[43m,\u001b[49m\u001b[43m \u001b[49m\u001b[38;5;241;43m*\u001b[39;49m\u001b[38;5;241;43m*\u001b[39;49m\u001b[43mkwargs\u001b[49m\u001b[43m)\u001b[49m\n\u001b[1;32m    170\u001b[0m \u001b[38;5;28mself\u001b[39m\u001b[38;5;241m.\u001b[39mprompt \u001b[38;5;241m=\u001b[39m \u001b[38;5;28mself\u001b[39m\u001b[38;5;241m.\u001b[39mconfig\u001b[38;5;241m.\u001b[39mprompt\n\u001b[1;32m    171\u001b[0m \u001b[38;5;28mself\u001b[39m\u001b[38;5;241m.\u001b[39mdisplay_list \u001b[38;5;241m=\u001b[39m {}  \u001b[38;5;66;03m# frame --> (name --> last seen value)\u001b[39;00m\n",
      "File \u001b[0;32m~/mambaforge/lib/python3.9/site-packages/IPython/core/debugger.py:229\u001b[0m, in \u001b[0;36mPdb.__init__\u001b[0;34m(self, completekey, stdin, stdout, context, **kwargs)\u001b[0m\n\u001b[1;32m    226\u001b[0m         \u001b[38;5;28;01mraise\u001b[39;00m \u001b[38;5;167;01mValueError\u001b[39;00m(\u001b[38;5;124m\"\u001b[39m\u001b[38;5;124mContext must be a positive integer\u001b[39m\u001b[38;5;124m\"\u001b[39m) \u001b[38;5;28;01mfrom\u001b[39;00m \u001b[38;5;21;01me\u001b[39;00m\n\u001b[1;32m    228\u001b[0m \u001b[38;5;66;03m# `kwargs` ensures full compatibility with stdlib's `pdb.Pdb`.\u001b[39;00m\n\u001b[0;32m--> 229\u001b[0m \u001b[43mOldPdb\u001b[49m\u001b[38;5;241;43m.\u001b[39;49m\u001b[38;5;21;43m__init__\u001b[39;49m\u001b[43m(\u001b[49m\u001b[38;5;28;43mself\u001b[39;49m\u001b[43m,\u001b[49m\u001b[43m \u001b[49m\u001b[43mcompletekey\u001b[49m\u001b[43m,\u001b[49m\u001b[43m \u001b[49m\u001b[43mstdin\u001b[49m\u001b[43m,\u001b[49m\u001b[43m \u001b[49m\u001b[43mstdout\u001b[49m\u001b[43m,\u001b[49m\u001b[43m \u001b[49m\u001b[38;5;241;43m*\u001b[39;49m\u001b[38;5;241;43m*\u001b[39;49m\u001b[43mkwargs\u001b[49m\u001b[43m)\u001b[49m\n\u001b[1;32m    231\u001b[0m \u001b[38;5;66;03m# IPython changes...\u001b[39;00m\n\u001b[1;32m    232\u001b[0m \u001b[38;5;28mself\u001b[39m\u001b[38;5;241m.\u001b[39mshell \u001b[38;5;241m=\u001b[39m get_ipython()\n",
      "File \u001b[0;32m~/mambaforge/lib/python3.9/site-packages/pdb.py:169\u001b[0m, in \u001b[0;36mPdb.__init__\u001b[0;34m(self, *args, **kwds)\u001b[0m\n\u001b[1;32m    167\u001b[0m kwargs \u001b[38;5;241m=\u001b[39m \u001b[38;5;28mself\u001b[39m\u001b[38;5;241m.\u001b[39mconfig\u001b[38;5;241m.\u001b[39mdefault_pdb_kwargs\u001b[38;5;241m.\u001b[39mcopy()\n\u001b[1;32m    168\u001b[0m kwargs\u001b[38;5;241m.\u001b[39mupdate(\u001b[38;5;241m*\u001b[39m\u001b[38;5;241m*\u001b[39mkwds)\n\u001b[0;32m--> 169\u001b[0m \u001b[38;5;28;43msuper\u001b[39;49m\u001b[43m(\u001b[49m\u001b[43mPdb\u001b[49m\u001b[43m,\u001b[49m\u001b[43m \u001b[49m\u001b[38;5;28;43mself\u001b[39;49m\u001b[43m)\u001b[49m\u001b[38;5;241;43m.\u001b[39;49m\u001b[38;5;21;43m__init__\u001b[39;49m\u001b[43m(\u001b[49m\u001b[38;5;241;43m*\u001b[39;49m\u001b[43margs\u001b[49m\u001b[43m,\u001b[49m\u001b[43m \u001b[49m\u001b[38;5;241;43m*\u001b[39;49m\u001b[38;5;241;43m*\u001b[39;49m\u001b[43mkwargs\u001b[49m\u001b[43m)\u001b[49m\n\u001b[1;32m    170\u001b[0m \u001b[38;5;28mself\u001b[39m\u001b[38;5;241m.\u001b[39mprompt \u001b[38;5;241m=\u001b[39m \u001b[38;5;28mself\u001b[39m\u001b[38;5;241m.\u001b[39mconfig\u001b[38;5;241m.\u001b[39mprompt\n\u001b[1;32m    171\u001b[0m \u001b[38;5;28mself\u001b[39m\u001b[38;5;241m.\u001b[39mdisplay_list \u001b[38;5;241m=\u001b[39m {}  \u001b[38;5;66;03m# frame --> (name --> last seen value)\u001b[39;00m\n",
      "    \u001b[0;31m[... skipping similar frames: Pdb.__init__ at line 229 (1479 times), Pdb.__init__ at line 169 (1478 times)]\u001b[0m\n",
      "File \u001b[0;32m~/mambaforge/lib/python3.9/site-packages/pdb.py:169\u001b[0m, in \u001b[0;36mPdb.__init__\u001b[0;34m(self, *args, **kwds)\u001b[0m\n\u001b[1;32m    167\u001b[0m kwargs \u001b[38;5;241m=\u001b[39m \u001b[38;5;28mself\u001b[39m\u001b[38;5;241m.\u001b[39mconfig\u001b[38;5;241m.\u001b[39mdefault_pdb_kwargs\u001b[38;5;241m.\u001b[39mcopy()\n\u001b[1;32m    168\u001b[0m kwargs\u001b[38;5;241m.\u001b[39mupdate(\u001b[38;5;241m*\u001b[39m\u001b[38;5;241m*\u001b[39mkwds)\n\u001b[0;32m--> 169\u001b[0m \u001b[38;5;28;43msuper\u001b[39;49m\u001b[43m(\u001b[49m\u001b[43mPdb\u001b[49m\u001b[43m,\u001b[49m\u001b[43m \u001b[49m\u001b[38;5;28;43mself\u001b[39;49m\u001b[43m)\u001b[49m\u001b[38;5;241;43m.\u001b[39;49m\u001b[38;5;21;43m__init__\u001b[39;49m\u001b[43m(\u001b[49m\u001b[38;5;241;43m*\u001b[39;49m\u001b[43margs\u001b[49m\u001b[43m,\u001b[49m\u001b[43m \u001b[49m\u001b[38;5;241;43m*\u001b[39;49m\u001b[38;5;241;43m*\u001b[39;49m\u001b[43mkwargs\u001b[49m\u001b[43m)\u001b[49m\n\u001b[1;32m    170\u001b[0m \u001b[38;5;28mself\u001b[39m\u001b[38;5;241m.\u001b[39mprompt \u001b[38;5;241m=\u001b[39m \u001b[38;5;28mself\u001b[39m\u001b[38;5;241m.\u001b[39mconfig\u001b[38;5;241m.\u001b[39mprompt\n\u001b[1;32m    171\u001b[0m \u001b[38;5;28mself\u001b[39m\u001b[38;5;241m.\u001b[39mdisplay_list \u001b[38;5;241m=\u001b[39m {}  \u001b[38;5;66;03m# frame --> (name --> last seen value)\u001b[39;00m\n",
      "File \u001b[0;32m~/mambaforge/lib/python3.9/site-packages/IPython/core/debugger.py:229\u001b[0m, in \u001b[0;36mPdb.__init__\u001b[0;34m(self, completekey, stdin, stdout, context, **kwargs)\u001b[0m\n\u001b[1;32m    226\u001b[0m         \u001b[38;5;28;01mraise\u001b[39;00m \u001b[38;5;167;01mValueError\u001b[39;00m(\u001b[38;5;124m\"\u001b[39m\u001b[38;5;124mContext must be a positive integer\u001b[39m\u001b[38;5;124m\"\u001b[39m) \u001b[38;5;28;01mfrom\u001b[39;00m \u001b[38;5;21;01me\u001b[39;00m\n\u001b[1;32m    228\u001b[0m \u001b[38;5;66;03m# `kwargs` ensures full compatibility with stdlib's `pdb.Pdb`.\u001b[39;00m\n\u001b[0;32m--> 229\u001b[0m \u001b[43mOldPdb\u001b[49m\u001b[38;5;241;43m.\u001b[39;49m\u001b[38;5;21;43m__init__\u001b[39;49m\u001b[43m(\u001b[49m\u001b[38;5;28;43mself\u001b[39;49m\u001b[43m,\u001b[49m\u001b[43m \u001b[49m\u001b[43mcompletekey\u001b[49m\u001b[43m,\u001b[49m\u001b[43m \u001b[49m\u001b[43mstdin\u001b[49m\u001b[43m,\u001b[49m\u001b[43m \u001b[49m\u001b[43mstdout\u001b[49m\u001b[43m,\u001b[49m\u001b[43m \u001b[49m\u001b[38;5;241;43m*\u001b[39;49m\u001b[38;5;241;43m*\u001b[39;49m\u001b[43mkwargs\u001b[49m\u001b[43m)\u001b[49m\n\u001b[1;32m    231\u001b[0m \u001b[38;5;66;03m# IPython changes...\u001b[39;00m\n\u001b[1;32m    232\u001b[0m \u001b[38;5;28mself\u001b[39m\u001b[38;5;241m.\u001b[39mshell \u001b[38;5;241m=\u001b[39m get_ipython()\n",
      "File \u001b[0;32m~/mambaforge/lib/python3.9/site-packages/pdb.py:163\u001b[0m, in \u001b[0;36mPdb.__init__\u001b[0;34m(self, *args, **kwds)\u001b[0m\n\u001b[1;32m    161\u001b[0m \u001b[38;5;28mself\u001b[39m\u001b[38;5;241m.\u001b[39mstart_lineno \u001b[38;5;241m=\u001b[39m kwds\u001b[38;5;241m.\u001b[39mpop(\u001b[38;5;124m'\u001b[39m\u001b[38;5;124mstart_lineno\u001b[39m\u001b[38;5;124m'\u001b[39m, \u001b[38;5;28;01mNone\u001b[39;00m)\n\u001b[1;32m    162\u001b[0m \u001b[38;5;28mself\u001b[39m\u001b[38;5;241m.\u001b[39mstart_filename \u001b[38;5;241m=\u001b[39m kwds\u001b[38;5;241m.\u001b[39mpop(\u001b[38;5;124m'\u001b[39m\u001b[38;5;124mstart_filename\u001b[39m\u001b[38;5;124m'\u001b[39m, \u001b[38;5;28;01mNone\u001b[39;00m)\n\u001b[0;32m--> 163\u001b[0m \u001b[38;5;28mself\u001b[39m\u001b[38;5;241m.\u001b[39mconfig \u001b[38;5;241m=\u001b[39m \u001b[38;5;28;43mself\u001b[39;49m\u001b[38;5;241;43m.\u001b[39;49m\u001b[43mget_config\u001b[49m\u001b[43m(\u001b[49m\u001b[38;5;28;43mself\u001b[39;49m\u001b[38;5;241;43m.\u001b[39;49m\u001b[43mConfigFactory\u001b[49m\u001b[43m)\u001b[49m\n\u001b[1;32m    164\u001b[0m \u001b[38;5;28mself\u001b[39m\u001b[38;5;241m.\u001b[39mconfig\u001b[38;5;241m.\u001b[39msetup(\u001b[38;5;28mself\u001b[39m)\n\u001b[1;32m    165\u001b[0m \u001b[38;5;28;01mif\u001b[39;00m \u001b[38;5;28mself\u001b[39m\u001b[38;5;241m.\u001b[39mconfig\u001b[38;5;241m.\u001b[39mdisable_pytest_capturing:\n",
      "File \u001b[0;32m~/mambaforge/lib/python3.9/site-packages/fancycompleter.py:207\u001b[0m, in \u001b[0;36mConfigurableClass.get_config\u001b[0;34m(self, Config)\u001b[0m\n\u001b[1;32m    204\u001b[0m \u001b[38;5;28;01mexcept\u001b[39;00m \u001b[38;5;167;01mException\u001b[39;00m \u001b[38;5;28;01mas\u001b[39;00m exc:\n\u001b[1;32m    205\u001b[0m     \u001b[38;5;28;01mimport\u001b[39;00m \u001b[38;5;21;01mtraceback\u001b[39;00m\n\u001b[0;32m--> 207\u001b[0m     \u001b[43msys\u001b[49m\u001b[38;5;241;43m.\u001b[39;49m\u001b[43mstderr\u001b[49m\u001b[38;5;241;43m.\u001b[39;49m\u001b[43mwrite\u001b[49m\u001b[43m(\u001b[49m\u001b[38;5;124;43m\"\u001b[39;49m\u001b[38;5;124;43m** error when importing \u001b[39;49m\u001b[38;5;132;43;01m%s\u001b[39;49;00m\u001b[38;5;124;43m: \u001b[39;49m\u001b[38;5;132;43;01m%r\u001b[39;49;00m\u001b[38;5;124;43m **\u001b[39;49m\u001b[38;5;130;43;01m\\n\u001b[39;49;00m\u001b[38;5;124;43m\"\u001b[39;49m\u001b[43m \u001b[49m\u001b[38;5;241;43m%\u001b[39;49m\u001b[43m \u001b[49m\u001b[43m(\u001b[49m\u001b[43mfilename\u001b[49m\u001b[43m,\u001b[49m\u001b[43m \u001b[49m\u001b[43mexc\u001b[49m\u001b[43m)\u001b[49m\u001b[43m)\u001b[49m\n\u001b[1;32m    208\u001b[0m     traceback\u001b[38;5;241m.\u001b[39mprint_tb(sys\u001b[38;5;241m.\u001b[39mexc_info()[\u001b[38;5;241m2\u001b[39m])\n\u001b[1;32m    209\u001b[0m     \u001b[38;5;28;01mreturn\u001b[39;00m \u001b[38;5;28mself\u001b[39m\u001b[38;5;241m.\u001b[39mDefaultConfig()\n",
      "File \u001b[0;32m~/mambaforge/lib/python3.9/site-packages/ipykernel/iostream.py:562\u001b[0m, in \u001b[0;36mOutStream.write\u001b[0;34m(self, string)\u001b[0m\n\u001b[1;32m    560\u001b[0m         \u001b[38;5;28mself\u001b[39m\u001b[38;5;241m.\u001b[39mpub_thread\u001b[38;5;241m.\u001b[39mschedule(\u001b[38;5;28mself\u001b[39m\u001b[38;5;241m.\u001b[39m_flush)\n\u001b[1;32m    561\u001b[0m     \u001b[38;5;28;01melse\u001b[39;00m:\n\u001b[0;32m--> 562\u001b[0m         \u001b[38;5;28;43mself\u001b[39;49m\u001b[38;5;241;43m.\u001b[39;49m\u001b[43m_schedule_flush\u001b[49m\u001b[43m(\u001b[49m\u001b[43m)\u001b[49m\n\u001b[1;32m    564\u001b[0m \u001b[38;5;28;01mreturn\u001b[39;00m \u001b[38;5;28mlen\u001b[39m(string)\n",
      "File \u001b[0;32m~/mambaforge/lib/python3.9/site-packages/ipykernel/iostream.py:468\u001b[0m, in \u001b[0;36mOutStream._schedule_flush\u001b[0;34m(self)\u001b[0m\n\u001b[1;32m    465\u001b[0m \u001b[38;5;28;01mdef\u001b[39;00m \u001b[38;5;21m_schedule_in_thread\u001b[39m():\n\u001b[1;32m    466\u001b[0m     \u001b[38;5;28mself\u001b[39m\u001b[38;5;241m.\u001b[39m_io_loop\u001b[38;5;241m.\u001b[39mcall_later(\u001b[38;5;28mself\u001b[39m\u001b[38;5;241m.\u001b[39mflush_interval, \u001b[38;5;28mself\u001b[39m\u001b[38;5;241m.\u001b[39m_flush)\n\u001b[0;32m--> 468\u001b[0m \u001b[38;5;28;43mself\u001b[39;49m\u001b[38;5;241;43m.\u001b[39;49m\u001b[43mpub_thread\u001b[49m\u001b[38;5;241;43m.\u001b[39;49m\u001b[43mschedule\u001b[49m\u001b[43m(\u001b[49m\u001b[43m_schedule_in_thread\u001b[49m\u001b[43m)\u001b[49m\n",
      "File \u001b[0;32m~/mambaforge/lib/python3.9/site-packages/ipykernel/iostream.py:214\u001b[0m, in \u001b[0;36mIOPubThread.schedule\u001b[0;34m(self, f)\u001b[0m\n\u001b[1;32m    209\u001b[0m \u001b[38;5;28;01mdef\u001b[39;00m \u001b[38;5;21mschedule\u001b[39m(\u001b[38;5;28mself\u001b[39m, f):\n\u001b[1;32m    210\u001b[0m     \u001b[38;5;124;03m\"\"\"Schedule a function to be called in our IO thread.\u001b[39;00m\n\u001b[1;32m    211\u001b[0m \n\u001b[1;32m    212\u001b[0m \u001b[38;5;124;03m    If the thread is not running, call immediately.\u001b[39;00m\n\u001b[1;32m    213\u001b[0m \u001b[38;5;124;03m    \"\"\"\u001b[39;00m\n\u001b[0;32m--> 214\u001b[0m     \u001b[38;5;28;01mif\u001b[39;00m \u001b[38;5;28;43mself\u001b[39;49m\u001b[38;5;241;43m.\u001b[39;49m\u001b[43mthread\u001b[49m\u001b[38;5;241;43m.\u001b[39;49m\u001b[43mis_alive\u001b[49m\u001b[43m(\u001b[49m\u001b[43m)\u001b[49m:\n\u001b[1;32m    215\u001b[0m         \u001b[38;5;28mself\u001b[39m\u001b[38;5;241m.\u001b[39m_events\u001b[38;5;241m.\u001b[39mappend(f)\n\u001b[1;32m    216\u001b[0m         \u001b[38;5;66;03m# wake event thread (message content is ignored)\u001b[39;00m\n",
      "File \u001b[0;32m~/mambaforge/lib/python3.9/threading.py:1137\u001b[0m, in \u001b[0;36mThread.is_alive\u001b[0;34m(self)\u001b[0m\n\u001b[1;32m   1135\u001b[0m \u001b[38;5;28;01mif\u001b[39;00m \u001b[38;5;28mself\u001b[39m\u001b[38;5;241m.\u001b[39m_is_stopped \u001b[38;5;129;01mor\u001b[39;00m \u001b[38;5;129;01mnot\u001b[39;00m \u001b[38;5;28mself\u001b[39m\u001b[38;5;241m.\u001b[39m_started\u001b[38;5;241m.\u001b[39mis_set():\n\u001b[1;32m   1136\u001b[0m     \u001b[38;5;28;01mreturn\u001b[39;00m \u001b[38;5;28;01mFalse\u001b[39;00m\n\u001b[0;32m-> 1137\u001b[0m \u001b[38;5;28;43mself\u001b[39;49m\u001b[38;5;241;43m.\u001b[39;49m\u001b[43m_wait_for_tstate_lock\u001b[49m\u001b[43m(\u001b[49m\u001b[38;5;28;43;01mFalse\u001b[39;49;00m\u001b[43m)\u001b[49m\n\u001b[1;32m   1138\u001b[0m \u001b[38;5;28;01mreturn\u001b[39;00m \u001b[38;5;129;01mnot\u001b[39;00m \u001b[38;5;28mself\u001b[39m\u001b[38;5;241m.\u001b[39m_is_stopped\n",
      "File \u001b[0;32m~/mambaforge/lib/python3.9/threading.py:1077\u001b[0m, in \u001b[0;36mThread._wait_for_tstate_lock\u001b[0;34m(self, block, timeout)\u001b[0m\n\u001b[1;32m   1075\u001b[0m         \u001b[38;5;28mself\u001b[39m\u001b[38;5;241m.\u001b[39m_stop()\n\u001b[1;32m   1076\u001b[0m \u001b[38;5;28;01mexcept\u001b[39;00m:\n\u001b[0;32m-> 1077\u001b[0m     \u001b[38;5;28;01mif\u001b[39;00m \u001b[43mlock\u001b[49m\u001b[38;5;241;43m.\u001b[39;49m\u001b[43mlocked\u001b[49m\u001b[43m(\u001b[49m\u001b[43m)\u001b[49m:\n\u001b[1;32m   1078\u001b[0m         \u001b[38;5;66;03m# bpo-45274: lock.acquire() acquired the lock, but the function\u001b[39;00m\n\u001b[1;32m   1079\u001b[0m         \u001b[38;5;66;03m# was interrupted with an exception before reaching the\u001b[39;00m\n\u001b[1;32m   1080\u001b[0m         \u001b[38;5;66;03m# lock.release(). It can happen if a signal handler raises an\u001b[39;00m\n\u001b[1;32m   1081\u001b[0m         \u001b[38;5;66;03m# exception, like CTRL+C which raises KeyboardInterrupt.\u001b[39;00m\n\u001b[1;32m   1082\u001b[0m         lock\u001b[38;5;241m.\u001b[39mrelease()\n\u001b[1;32m   1083\u001b[0m         \u001b[38;5;28mself\u001b[39m\u001b[38;5;241m.\u001b[39m_stop()\n",
      "\u001b[0;31mRecursionError\u001b[0m: maximum recursion depth exceeded while calling a Python object"
     ]
    }
   ],
   "source": [
    "wgts_sgd_step = sgd_step_exp(p=wgts, lr=1)\n",
    "wgts_sgd_step"
   ]
  },
  {
   "cell_type": "markdown",
   "id": "90be0acb",
   "metadata": {},
   "source": [
    "## Plotting"
   ]
  },
  {
   "cell_type": "code",
   "execution_count": 26,
   "id": "78e25a31",
   "metadata": {},
   "outputs": [],
   "source": [
    "import matplotlib.pyplot as plt"
   ]
  },
  {
   "cell_type": "code",
   "execution_count": 27,
   "id": "c92c193c",
   "metadata": {},
   "outputs": [],
   "source": [
    "line1 = wgts.data.numpy()[0]"
   ]
  },
  {
   "cell_type": "code",
   "execution_count": 28,
   "id": "be364b28",
   "metadata": {},
   "outputs": [
    {
     "data": {
      "text/plain": [
       "[<matplotlib.lines.Line2D at 0x13e0daca0>]"
      ]
     },
     "execution_count": 28,
     "metadata": {},
     "output_type": "execute_result"
    },
    {
     "data": {
      "image/png": "[encoded data removed]",
      "text/plain": [
       "<Figure size 432x288 with 1 Axes>"
      ]
     },
     "metadata": {
      "needs_background": "light"
     },
     "output_type": "display_data"
    }
   ],
   "source": [
    "plt.plot(line1)"
   ]
  },
  {
   "cell_type": "code",
   "execution_count": 29,
   "id": "4f00d679",
   "metadata": {},
   "outputs": [],
   "source": [
    "line2 = wgts_sgd_step.data.numpy()[0]"
   ]
  },
  {
   "cell_type": "code",
   "execution_count": 30,
   "id": "90c2b944",
   "metadata": {},
   "outputs": [
    {
     "data": {
      "text/plain": [
       "[<matplotlib.lines.Line2D at 0x13eca1490>]"
      ]
     },
     "execution_count": 30,
     "metadata": {},
     "output_type": "execute_result"
    },
    {
     "data": {
      "image/png": "[encoded data removed]",
      "text/plain": [
       "<Figure size 432x288 with 1 Axes>"
      ]
     },
     "metadata": {
      "needs_background": "light"
     },
     "output_type": "display_data"
    }
   ],
   "source": [
    "plt.plot(line2)"
   ]
  },
  {
   "cell_type": "code",
   "execution_count": 38,
   "id": "071ecd2f",
   "metadata": {},
   "outputs": [
    {
     "data": {
      "image/png": "[encoded data removed]",
      "text/plain": [
       "<Figure size 720x720 with 1 Axes>"
      ]
     },
     "metadata": {
      "needs_background": "light"
     },
     "output_type": "display_data"
    }
   ],
   "source": [
    "fig1 = plt.figure(1)\n",
    "\n",
    "ax = fig1.add_subplot()\n",
    "\n",
    "ax.plot(line1, color=\"orange\", linestyle=\"solid\", label=\"pure\");\n",
    "ax.plot(line2, color=\"blue\", linestyle=\"dashed\", marker=\"o\", drawstyle=\"steps-post\", alpha=0.5, label=\"sgd_step\");\n",
    "ax.legend()\n",
    "ticks = ax.set_xticks([0, 10, 20, 30])\n",
    "labels = ax.set_xticklabels([\"0\", \"10\", \"20\", \"30\"], rotation=30, fontsize=8)\n",
    "ax.set_xlabel(\"iterations\")\n",
    "ax.set_ylabel(\"weights\")\n",
    "ax.set_title(\"Stepping effects on weights\")\n",
    "plt.rc(\"figure\", figsize=(30, 30))"
   ]
  },
  {
   "cell_type": "markdown",
   "id": "ce83c258",
   "metadata": {},
   "source": [
    "## What does `weight_decay` and `l2_reg` do to weights under `sgd_step`?"
   ]
  },
  {
   "cell_type": "markdown",
   "id": "35e27345",
   "metadata": {},
   "source": [
    "apply [weight_decay, sgd_step] to weights"
   ]
  },
  {
   "cell_type": "code",
   "execution_count": 9,
   "id": "bc6757dd",
   "metadata": {},
   "outputs": [
    {
     "data": {
      "text/plain": [
       "tensor([[ 0.0499,  0.1478,  0.2397,  0.3221,  0.3917,  0.4456,  0.4818,  0.4987,\n",
       "          0.4958,  0.4732,  0.4316,  0.3729,  0.2992,  0.2137,  0.1196,  0.0208,\n",
       "         -0.0789, -0.1754, -0.2649, -0.3439, -0.4091, -0.4581, -0.4888, -0.5000,\n",
       "         -0.4912, -0.4629, -0.4161, -0.3528, -0.2753]])"
      ]
     },
     "execution_count": 9,
     "metadata": {},
     "output_type": "execute_result"
    }
   ],
   "source": [
    "wgts.grad"
   ]
  },
  {
   "cell_type": "code",
   "execution_count": 10,
   "id": "9cf1b4b5",
   "metadata": {},
   "outputs": [],
   "source": [
    "def weight_decay_exp(p, lr, wd, do_wd=True, **kwargs):\n",
    "    \"Weight decay as decaying `p` with `lr*wd`\"\n",
    "    if do_wd and wd!=0: \n",
    "        return p.data.mul(1 - lr*wd)"
   ]
  },
  {
   "cell_type": "code",
   "execution_count": 11,
   "id": "af31d289",
   "metadata": {},
   "outputs": [
    {
     "data": {
      "text/plain": [
       "tensor([[ 0.3993,  1.1821,  1.9177,  2.5769,  3.1333,  3.5648,  3.8542,  3.9900,\n",
       "          3.9667,  3.7852,  3.4528,  2.9828,  2.3939,  1.7095,  0.9570,  0.1663,\n",
       "         -0.6310, -1.4031, -2.1193, -2.7511, -3.2731, -3.6647, -3.9101, -3.9997,\n",
       "         -3.9298, -3.7033, -3.3291, -2.8222, -2.2027]])"
      ]
     },
     "execution_count": 11,
     "metadata": {},
     "output_type": "execute_result"
    }
   ],
   "source": [
    "wgts_wd = weight_decay_exp(p=wgts, lr=1, wd=0.1, do_wd=True)\n",
    "wgts_wd.grad = wgts.grad\n",
    "wgts_wd_sgd = sgd_step_exp(p=wgts_wd, lr=1)\n",
    "wgts_wd_sgd"
   ]
  },
  {
   "cell_type": "code",
   "execution_count": 12,
   "id": "53413706",
   "metadata": {
    "scrolled": true
   },
   "outputs": [
    {
     "data": {
      "text/plain": [
       "tensor([[ 0.0499,  0.1478,  0.2397,  0.3221,  0.3917,  0.4456,  0.4818,  0.4987,\n",
       "          0.4958,  0.4732,  0.4316,  0.3729,  0.2992,  0.2137,  0.1196,  0.0208,\n",
       "         -0.0789, -0.1754, -0.2649, -0.3439, -0.4091, -0.4581, -0.4888, -0.5000,\n",
       "         -0.4912, -0.4629, -0.4161, -0.3528, -0.2753]])"
      ]
     },
     "execution_count": 12,
     "metadata": {},
     "output_type": "execute_result"
    }
   ],
   "source": [
    "wgts.grad"
   ]
  },
  {
   "cell_type": "code",
   "execution_count": 14,
   "id": "c23806da",
   "metadata": {},
   "outputs": [],
   "source": [
    "def l2_reg_exp(p, lr, wd, do_wd=True, **kwargs):\n",
    "    \"L2 regularization as adding `wd*p` to `p.grad`\"\n",
    "    if do_wd and wd!=0: \n",
    "        return p.grad.data.add(p.data, alpha=wd)"
   ]
  },
  {
   "cell_type": "code",
   "execution_count": 15,
   "id": "728bd2cf",
   "metadata": {},
   "outputs": [
    {
     "data": {
      "text/plain": [
       "tensor([[ 0.0998,  0.2955,  0.4794,  0.6442,  0.7833,  0.8912,  0.9636,  0.9975,\n",
       "          0.9917,  0.9463,  0.8632,  0.7457,  0.5985,  0.4274,  0.2392,  0.0416,\n",
       "         -0.1577, -0.3508, -0.5298, -0.6878, -0.8183, -0.9162, -0.9775, -0.9999,\n",
       "         -0.9825, -0.9258, -0.8323, -0.7055, -0.5507]])"
      ]
     },
     "execution_count": 15,
     "metadata": {},
     "output_type": "execute_result"
    }
   ],
   "source": [
    "grad_l2 = l2_reg_exp(p=wgts, lr=1, wd=0.1, do_wd=True)\n",
    "grad_l2"
   ]
  },
  {
   "cell_type": "code",
   "execution_count": 19,
   "id": "6e8418d2",
   "metadata": {},
   "outputs": [
    {
     "data": {
      "text/plain": [
       "tensor([[ 0.0499,  0.1478,  0.2397,  0.3221,  0.3917,  0.4456,  0.4818,  0.4987,\n",
       "          0.4958,  0.4732,  0.4316,  0.3729,  0.2992,  0.2137,  0.1196,  0.0208,\n",
       "         -0.0789, -0.1754, -0.2649, -0.3439, -0.4091, -0.4581, -0.4888, -0.5000,\n",
       "         -0.4912, -0.4629, -0.4161, -0.3528, -0.2753]])"
      ]
     },
     "execution_count": 19,
     "metadata": {},
     "output_type": "execute_result"
    }
   ],
   "source": [
    "wgts.grad"
   ]
  },
  {
   "cell_type": "code",
   "execution_count": 20,
   "id": "35ade531",
   "metadata": {},
   "outputs": [
    {
     "data": {
      "text/plain": [
       "tensor([[ 0.0499,  0.1478,  0.2397,  0.3221,  0.3917,  0.4456,  0.4818,  0.4987,\n",
       "          0.4958,  0.4732,  0.4316,  0.3729,  0.2992,  0.2137,  0.1196,  0.0208,\n",
       "         -0.0789, -0.1754, -0.2649, -0.3439, -0.4091, -0.4581, -0.4888, -0.5000,\n",
       "         -0.4912, -0.4629, -0.4161, -0.3528, -0.2753]])"
      ]
     },
     "execution_count": 20,
     "metadata": {},
     "output_type": "execute_result"
    }
   ],
   "source": [
    "wgts_l2 = wgts\n",
    "wgts_l2.grad"
   ]
  },
  {
   "cell_type": "code",
   "execution_count": 21,
   "id": "ad9eff7d",
   "metadata": {},
   "outputs": [
    {
     "data": {
      "text/plain": [
       "tensor([[ 0.0998,  0.2955,  0.4794,  0.6442,  0.7833,  0.8912,  0.9636,  0.9975,\n",
       "          0.9917,  0.9463,  0.8632,  0.7457,  0.5985,  0.4274,  0.2392,  0.0416,\n",
       "         -0.1577, -0.3508, -0.5298, -0.6878, -0.8183, -0.9162, -0.9775, -0.9999,\n",
       "         -0.9825, -0.9258, -0.8323, -0.7055, -0.5507]])"
      ]
     },
     "execution_count": 21,
     "metadata": {},
     "output_type": "execute_result"
    }
   ],
   "source": [
    "wgts_l2.grad = grad_l2\n",
    "wgts_l2.grad"
   ]
  },
  {
   "cell_type": "code",
   "execution_count": 23,
   "id": "43a2f998",
   "metadata": {},
   "outputs": [
    {
     "data": {
      "text/plain": [
       "tensor([[ 0.4992,  1.4776,  2.3971,  3.2211,  3.9166,  4.4560,  4.8178,  4.9875,\n",
       "          4.9583,  4.7315,  4.3160,  3.7285,  2.9924,  2.1369,  1.1962,  0.2079,\n",
       "         -0.7887, -1.7539, -2.6492, -3.4388, -4.0914, -4.5808, -4.8877, -4.9996,\n",
       "         -4.9123, -4.6291, -4.1613, -3.5277, -2.7534]])"
      ]
     },
     "execution_count": 23,
     "metadata": {},
     "output_type": "execute_result"
    }
   ],
   "source": [
    "wgts_l2"
   ]
  },
  {
   "cell_type": "code",
   "execution_count": 24,
   "id": "fbd90809",
   "metadata": {},
   "outputs": [
    {
     "data": {
      "text/plain": [
       "tensor([[ 0.3993,  1.1821,  1.9177,  2.5769,  3.1333,  3.5648,  3.8542,  3.9900,\n",
       "          3.9667,  3.7852,  3.4528,  2.9828,  2.3939,  1.7095,  0.9570,  0.1663,\n",
       "         -0.6310, -1.4031, -2.1193, -2.7511, -3.2731, -3.6647, -3.9101, -3.9997,\n",
       "         -3.9298, -3.7033, -3.3291, -2.8222, -2.2027]])"
      ]
     },
     "execution_count": 24,
     "metadata": {},
     "output_type": "execute_result"
    }
   ],
   "source": [
    "wgts_l2_sgd = sgd_step_exp(p=wgts_l2, lr=1)\n",
    "wgts_l2_sgd\n",
    "# wgts_l2.grad"
   ]
  },
  {
   "cell_type": "code",
   "execution_count": 25,
   "id": "98381598",
   "metadata": {
    "scrolled": true
   },
   "outputs": [
    {
     "data": {
      "text/plain": [
       "tensor([[ 0.0998,  0.2955,  0.4794,  0.6442,  0.7833,  0.8912,  0.9636,  0.9975,\n",
       "          0.9917,  0.9463,  0.8632,  0.7457,  0.5985,  0.4274,  0.2392,  0.0416,\n",
       "         -0.1577, -0.3508, -0.5298, -0.6878, -0.8183, -0.9162, -0.9775, -0.9999,\n",
       "         -0.9825, -0.9258, -0.8323, -0.7055, -0.5507]])"
      ]
     },
     "execution_count": 25,
     "metadata": {},
     "output_type": "execute_result"
    }
   ],
   "source": [
    "wgts_l2.grad"
   ]
  },
  {
   "cell_type": "code",
   "execution_count": 22,
   "id": "29f96d00",
   "metadata": {},
   "outputs": [
    {
     "data": {
      "text/plain": [
       "tensor([[ 0.4992,  1.4776,  2.3971,  3.2211,  3.9166,  4.4560,  4.8178,  4.9875,\n",
       "          4.9583,  4.7315,  4.3160,  3.7285,  2.9924,  2.1369,  1.1962,  0.2079,\n",
       "         -0.7887, -1.7539, -2.6492, -3.4388, -4.0914, -4.5808, -4.8877, -4.9996,\n",
       "         -4.9123, -4.6291, -4.1613, -3.5277, -2.7534]])"
      ]
     },
     "execution_count": 22,
     "metadata": {},
     "output_type": "execute_result"
    }
   ],
   "source": [
    "wgts_l2"
   ]
  },
  {
   "cell_type": "code",
   "execution_count": 33,
   "id": "f1c32af1",
   "metadata": {},
   "outputs": [],
   "source": [
    "line3 = wgts_wd_sgd.data.numpy()[0]\n",
    "line4 = wgts_l2_sgd.data.numpy()[0]"
   ]
  },
  {
   "cell_type": "code",
   "execution_count": 41,
   "id": "f8c2b0b3",
   "metadata": {},
   "outputs": [
    {
     "data": {
      "image/png": "[encoded data removed]",
      "text/plain": [
       "<Figure size 720x720 with 1 Axes>"
      ]
     },
     "metadata": {
      "needs_background": "light"
     },
     "output_type": "display_data"
    }
   ],
   "source": [
    "fig2 = plt.figure(2)\n",
    "\n",
    "ax = fig2.add_subplot()\n",
    "\n",
    "ax.plot(line3, color=\"orange\", linestyle=\"solid\", label=\"pure\");\n",
    "ax.plot(line4, color=\"blue\", linestyle=\"dashed\", marker=\"o\", drawstyle=\"steps-post\", alpha=0.5, label=\"sgd_step\");\n",
    "ax.legend()\n",
    "ticks = ax.set_xticks([0, 10, 20, 30])\n",
    "labels = ax.set_xticklabels([\"0\", \"10\", \"20\", \"30\"], rotation=30, fontsize=8)\n",
    "ax.set_xlabel(\"iterations\")\n",
    "ax.set_ylabel(\"weights\")\n",
    "ax.set_title(\"Stepping effects on weights\")\n",
    "plt.rc(\"figure\", figsize=(10, 10))"
   ]
  },
  {
   "cell_type": "code",
   "execution_count": null,
   "id": "e5b8c27e",
   "metadata": {},
   "outputs": [],
   "source": []
  }
 ],
 "metadata": {
  "hide_input": false,
  "kernelspec": {
   "display_name": "Python 3 (ipykernel)",
   "language": "python",
   "name": "python3"
  },
  "language_info": {
   "codemirror_mode": {
    "name": "ipython",
    "version": 3
   },
   "file_extension": ".py",
   "mimetype": "text/x-python",
   "name": "python",
   "nbconvert_exporter": "python",
   "pygments_lexer": "ipython3",
   "version": "3.9.10"
  },
  "varInspector": {
   "cols": {
    "lenName": 16,
    "lenType": 16,
    "lenVar": 40
   },
   "kernels_config": {
    "python": {
     "delete_cmd_postfix": "",
     "delete_cmd_prefix": "del ",
     "library": "var_list.py",
     "varRefreshCmd": "print(var_dic_list())"
    },
    "r": {
     "delete_cmd_postfix": ") ",
     "delete_cmd_prefix": "rm(",
     "library": "var_list.r",
     "varRefreshCmd": "cat(var_dic_list()) "
    }
   },
   "types_to_exclude": [
    "module",
    "function",
    "builtin_function_or_method",
    "instance",
    "_Feature"
   ],
   "window_display": false
  }
 },
 "nbformat": 4,
 "nbformat_minor": 5
}
